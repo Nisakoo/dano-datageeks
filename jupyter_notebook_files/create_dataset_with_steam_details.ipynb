{
 "cells": [
  {
   "cell_type": "code",
   "execution_count": 2,
   "id": "152f519b-b73f-4717-8dc6-b7e347ae4e95",
   "metadata": {},
   "outputs": [],
   "source": [
    "import pandas as pd\n",
    "\n",
    "df = pd.read_csv(\"T_games_steam_appids.csv\")"
   ]
  },
  {
   "cell_type": "code",
   "execution_count": 3,
   "id": "9f0eae2f-1031-4f7d-beed-d1aebcfbfb97",
   "metadata": {},
   "outputs": [],
   "source": [
    "import math\n",
    "\n",
    "def in_steam(x):\n",
    "    return not math.isnan(x)\n",
    "\n",
    "df[\"in_steam\"] = df.appid.apply(in_steam)"
   ]
  },
  {
   "cell_type": "code",
   "execution_count": 4,
   "id": "a139222d-2748-4f45-af83-c41627158e9d",
   "metadata": {},
   "outputs": [],
   "source": [
    "games_info = pd.read_csv(\"games_info.csv\")\n",
    "games_info\n",
    "r = df.merge(games_info, on=\"appid\", how=\"left\")"
   ]
  },
  {
   "cell_type": "code",
   "execution_count": 5,
   "id": "a77f4a6f-3364-42dc-a98e-16eb0767e1d8",
   "metadata": {},
   "outputs": [],
   "source": [
    "import math\n",
    "from datetime import datetime\n",
    "from dateutil.parser import parse\n",
    "\n",
    "\n",
    "def parse_date(x):\n",
    "    if (type(x) == str) and (x != \"Coming soon\") and (x != \"To be announced\"):\n",
    "        x = x.replace(\".\", \"\")\n",
    "        x = x.replace(\",\", \"\")\n",
    "        x = x.replace(\"янв\", \"Jan\")\n",
    "        x = x.replace(\"дек\", \"Dec\")\n",
    "        x = x.replace(\"мар\", \"Mar\")\n",
    "        x = x.replace(\"апр\", \"Apr\")\n",
    "        x = x.replace(\"мая\", \"May\")\n",
    "        x = x.replace(\"июн\", \"Jun\")\n",
    "        x = x.replace(\"июл\", \"Jul\")\n",
    "        x = x.replace(\"авг\", \"Aug\")\n",
    "        x = x.replace(\"сен\", \"Sep\")\n",
    "        x = x.replace(\"окт\", \"Oct\")\n",
    "        x = x.replace(\"ноя\", \"Nov\")\n",
    "        x = x.replace(\"фев\", \"Feb\")\n",
    "        x = x.replace(\"Kas\", \"Nov\")\n",
    "        x = x.replace(\"Eki\", \"Oct\")\n",
    "        x = x.replace(\"ENE\", \"Jan\")\n",
    "        x = x.replace(\"เมย\", \"apr\")\n",
    "        x = x.replace(\"set\", \"Sep\")\n",
    "        x = x.replace(\"mai\", \"May\")\n",
    "        \n",
    "        date = parse(x, fuzzy=True)\n",
    "    \n",
    "        return date.strftime(\"%Y-%m-%d\")\n",
    "\n",
    "    return \"null\"\n",
    "\n",
    "r.release_date = r.release_date.apply(parse_date)\n",
    "r.to_csv(\"T_games_details.csv\", index=False)"
   ]
  }
 ],
 "metadata": {
  "kernelspec": {
   "display_name": "Python 3 (ipykernel)",
   "language": "python",
   "name": "python3"
  },
  "language_info": {
   "codemirror_mode": {
    "name": "ipython",
    "version": 3
   },
   "file_extension": ".py",
   "mimetype": "text/x-python",
   "name": "python",
   "nbconvert_exporter": "python",
   "pygments_lexer": "ipython3",
   "version": "3.11.7"
  }
 },
 "nbformat": 4,
 "nbformat_minor": 5
}
