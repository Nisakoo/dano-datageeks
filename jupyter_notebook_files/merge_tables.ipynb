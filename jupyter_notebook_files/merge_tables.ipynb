{
 "cells": [
  {
   "cell_type": "code",
   "execution_count": 13,
   "id": "85e43fdd-4c1e-4530-a3ac-4403f04f6194",
   "metadata": {},
   "outputs": [],
   "source": [
    "import pandas as pd\n",
    "\n",
    "\n",
    "t1 = pd.read_csv(\"steam_games_appids_1.csv\")\n",
    "t2 = pd.read_csv(\"steam_games_appids_2.csv\")\n",
    "t3 = pd.read_csv(\"steam_games_appids_3.csv\")"
   ]
  },
  {
   "cell_type": "code",
   "execution_count": 18,
   "id": "253a9902-4761-4fab-af06-d445741dd680",
   "metadata": {},
   "outputs": [],
   "source": [
    "games = pd.concat([t1, t2, t3], ignore_index=True)\n",
    "games[[\"name\", \"appid\"]].to_csv(\"T_games_steam_appids.csv\", index=False)"
   ]
  },
  {
   "cell_type": "code",
   "execution_count": 24,
   "id": "b71f84d9-b3d1-42b7-b093-4c7652c76d08",
   "metadata": {},
   "outputs": [],
   "source": [
    "df = pd.read_csv(\"T_games_steam_appids.csv\")\n",
    "df[df.appid.isna()].to_csv(\"nan.csv\")"
   ]
  },
  {
   "cell_type": "code",
   "execution_count": 39,
   "id": "168ebf08-ddd8-463e-94c4-541048553a80",
   "metadata": {},
   "outputs": [],
   "source": [
    "nans = pd.read_csv(\"nan.csv\")[[\"name\", \"appid\"]]\n",
    "r = games[[\"name\", \"appid\"]]\n",
    "r.set_index(\"name\", inplace=True)\n",
    "\n",
    "r.update(nans.set_index(\"name\"))\n",
    "r = r.reset_index()\n",
    "\n",
    "r.to_csv(\"T_games_steam_appids.csv\", index=False)"
   ]
  }
 ],
 "metadata": {
  "kernelspec": {
   "display_name": "Python 3 (ipykernel)",
   "language": "python",
   "name": "python3"
  },
  "language_info": {
   "codemirror_mode": {
    "name": "ipython",
    "version": 3
   },
   "file_extension": ".py",
   "mimetype": "text/x-python",
   "name": "python",
   "nbconvert_exporter": "python",
   "pygments_lexer": "ipython3",
   "version": "3.11.7"
  }
 },
 "nbformat": 4,
 "nbformat_minor": 5
}
